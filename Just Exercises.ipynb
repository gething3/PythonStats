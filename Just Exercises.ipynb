{
 "cells": [
  {
   "cell_type": "markdown",
   "id": "10ce03bd-798b-4042-a2e9-202898770328",
   "metadata": {},
   "source": [
    "# Python Stats Exercises"
   ]
  },
  {
   "cell_type": "code",
   "execution_count": 1,
   "id": "79f8b5d4-a2c7-4eba-b756-3dbbe42786d7",
   "metadata": {
    "tags": []
   },
   "outputs": [],
   "source": [
    "from matplotlib import pyplot as plt\n",
    "import numpy as np\n",
    "import os\n",
    "import pandas as pd\n",
    "from pandas import plotting\n",
    "from scipy import stats\n",
    "import seaborn as sns\n",
    "from statsmodels.formula.api import ols\n",
    "import urllib"
   ]
  },
  {
   "cell_type": "code",
   "execution_count": 2,
   "id": "717515fa-bc07-4071-a6d1-577f28f1b96c",
   "metadata": {
    "tags": []
   },
   "outputs": [
    {
     "name": "stdout",
     "output_type": "stream",
     "text": [
      "    Unnamed: 0  Gender  FSIQ  VIQ  PIQ  Weight  Height  MRI_Count\n",
      "0            1  Female   133  132  124   118.0    64.5     816932\n",
      "1            2    Male   140  150  124     NaN    72.5    1001121\n",
      "2            3    Male   139  123  150   143.0    73.3    1038437\n",
      "3            4    Male   133  129  128   172.0    68.8     965353\n",
      "4            5  Female   137  132  134   147.0    65.0     951545\n",
      "5            6  Female    99   90  110   146.0    69.0     928799\n",
      "6            7  Female   138  136  131   138.0    64.5     991305\n",
      "7            8  Female    92   90   98   175.0    66.0     854258\n",
      "8            9    Male    89   93   84   134.0    66.3     904858\n",
      "9           10    Male   133  114  147   172.0    68.8     955466\n",
      "10          11  Female   132  129  124   118.0    64.5     833868\n",
      "11          12    Male   141  150  128   151.0    70.0    1079549\n",
      "12          13    Male   135  129  124   155.0    69.0     924059\n",
      "13          14  Female   140  120  147   155.0    70.5     856472\n",
      "14          15  Female    96  100   90   146.0    66.0     878897\n",
      "15          16  Female    83   71   96   135.0    68.0     865363\n",
      "16          17  Female   132  132  120   127.0    68.5     852244\n",
      "17          18    Male   100   96  102   178.0    73.5     945088\n",
      "18          19  Female   101  112   84   136.0    66.3     808020\n",
      "19          20    Male    80   77   86   180.0    70.0     889083\n",
      "20          21    Male    83   83   86     NaN     NaN     892420\n",
      "21          22    Male    97  107   84   186.0    76.5     905940\n",
      "22          23  Female   135  129  134   122.0    62.0     790619\n",
      "23          24    Male   139  145  128   132.0    68.0     955003\n",
      "24          25  Female    91   86  102   114.0    63.0     831772\n",
      "25          26    Male   141  145  131   171.0    72.0     935494\n",
      "26          27  Female    85   90   84   140.0    68.0     798612\n",
      "27          28    Male   103   96  110   187.0    77.0    1062462\n",
      "28          29  Female    77   83   72   106.0    63.0     793549\n",
      "29          30  Female   130  126  124   159.0    66.5     866662\n",
      "30          31  Female   133  126  132   127.0    62.5     857782\n",
      "31          32    Male   144  145  137   191.0    67.0     949589\n",
      "32          33    Male   103   96  110   192.0    75.5     997925\n",
      "33          34    Male    90   96   86   181.0    69.0     879987\n",
      "34          35  Female    83   90   81   143.0    66.5     834344\n",
      "35          36  Female   133  129  128   153.0    66.5     948066\n",
      "36          37    Male   140  150  124   144.0    70.5     949395\n",
      "37          38  Female    88   86   94   139.0    64.5     893983\n",
      "38          39    Male    81   90   74   148.0    74.0     930016\n",
      "39          40    Male    89   91   89   179.0    75.5     935863\n"
     ]
    }
   ],
   "source": [
    "data = pd.read_csv('brain_size.csv', sep=';', na_values=\".\")\n",
    "print(data)"
   ]
  },
  {
   "cell_type": "code",
   "execution_count": 3,
   "id": "edef713c-ea72-4e87-8712-a62b6286a01b",
   "metadata": {
    "tags": []
   },
   "outputs": [],
   "source": [
    "groupby_gender = data.groupby('Gender')"
   ]
  },
  {
   "cell_type": "markdown",
   "id": "04c72167-cbd8-4a98-b826-b663ec565678",
   "metadata": {},
   "source": [
    "# Exercise 1"
   ]
  },
  {
   "cell_type": "code",
   "execution_count": 4,
   "id": "ee1f1479-d54e-47cd-944d-1c7e1bcda4fc",
   "metadata": {
    "tags": []
   },
   "outputs": [
    {
     "data": {
      "text/plain": [
       "112.35"
      ]
     },
     "execution_count": 4,
     "metadata": {},
     "output_type": "execute_result"
    }
   ],
   "source": [
    "# What is the mean value for VIQ for the full population?\n",
    "data['VIQ'].mean()"
   ]
  },
  {
   "cell_type": "code",
   "execution_count": 5,
   "id": "3d730c53-3b91-4580-9f04-9fb7312bf240",
   "metadata": {
    "tags": []
   },
   "outputs": [
    {
     "name": "stdout",
     "output_type": "stream",
     "text": [
      "Females: 20\n",
      "Males: 20\n"
     ]
    }
   ],
   "source": [
    "# How many males/females were included in this study?\n",
    "f = data[data['Gender'] == 'Female']['Gender'].count()\n",
    "m = data[data['Gender'] == 'Male']['Gender'].count()\n",
    "print('Females: {}'.format(f))\n",
    "print('Males: {}'.format(m))"
   ]
  },
  {
   "cell_type": "code",
   "execution_count": 6,
   "id": "4864e20f-61f9-4306-8c9b-90c812aad7bb",
   "metadata": {
    "tags": []
   },
   "outputs": [
    {
     "name": "stdout",
     "output_type": "stream",
     "text": [
      "('Female', 862654.6)\n",
      "('Male', 954855.4)\n"
     ]
    }
   ],
   "source": [
    "# What is the average value of MRI counts expressed in log units, for males and females?\n",
    "for gender, value in groupby_gender['MRI_Count']:\n",
    "    print((gender, value.mean()))"
   ]
  },
  {
   "cell_type": "markdown",
   "id": "33f4992d-4355-4c71-a8df-0f37fe56a9fa",
   "metadata": {},
   "source": [
    "# Exercise 2"
   ]
  },
  {
   "cell_type": "code",
   "execution_count": 7,
   "id": "3f74e091-9858-45f0-b9b7-cb74affd6174",
   "metadata": {
    "tags": []
   },
   "outputs": [],
   "source": [
    "# Plot the scatter matrix for males only, and for females only. \n",
    "# Do you think that the 2 sub-populations correspond to gender?"
   ]
  },
  {
   "cell_type": "code",
   "execution_count": 8,
   "id": "3275f13e-07cd-4d87-babc-5a42f12c5ffc",
   "metadata": {
    "tags": []
   },
   "outputs": [
    {
     "data": {
      "text/html": [
       "<div>\n",
       "<style scoped>\n",
       "    .dataframe tbody tr th:only-of-type {\n",
       "        vertical-align: middle;\n",
       "    }\n",
       "\n",
       "    .dataframe tbody tr th {\n",
       "        vertical-align: top;\n",
       "    }\n",
       "\n",
       "    .dataframe thead th {\n",
       "        text-align: right;\n",
       "    }\n",
       "</style>\n",
       "<table border=\"1\" class=\"dataframe\">\n",
       "  <thead>\n",
       "    <tr style=\"text-align: right;\">\n",
       "      <th></th>\n",
       "      <th>Unnamed: 0</th>\n",
       "      <th>Gender</th>\n",
       "      <th>FSIQ</th>\n",
       "      <th>VIQ</th>\n",
       "      <th>PIQ</th>\n",
       "      <th>Weight</th>\n",
       "      <th>Height</th>\n",
       "      <th>MRI_Count</th>\n",
       "    </tr>\n",
       "  </thead>\n",
       "  <tbody>\n",
       "    <tr>\n",
       "      <th>0</th>\n",
       "      <td>1</td>\n",
       "      <td>Female</td>\n",
       "      <td>133</td>\n",
       "      <td>132</td>\n",
       "      <td>124</td>\n",
       "      <td>118.0</td>\n",
       "      <td>64.5</td>\n",
       "      <td>816932</td>\n",
       "    </tr>\n",
       "    <tr>\n",
       "      <th>4</th>\n",
       "      <td>5</td>\n",
       "      <td>Female</td>\n",
       "      <td>137</td>\n",
       "      <td>132</td>\n",
       "      <td>134</td>\n",
       "      <td>147.0</td>\n",
       "      <td>65.0</td>\n",
       "      <td>951545</td>\n",
       "    </tr>\n",
       "    <tr>\n",
       "      <th>5</th>\n",
       "      <td>6</td>\n",
       "      <td>Female</td>\n",
       "      <td>99</td>\n",
       "      <td>90</td>\n",
       "      <td>110</td>\n",
       "      <td>146.0</td>\n",
       "      <td>69.0</td>\n",
       "      <td>928799</td>\n",
       "    </tr>\n",
       "    <tr>\n",
       "      <th>6</th>\n",
       "      <td>7</td>\n",
       "      <td>Female</td>\n",
       "      <td>138</td>\n",
       "      <td>136</td>\n",
       "      <td>131</td>\n",
       "      <td>138.0</td>\n",
       "      <td>64.5</td>\n",
       "      <td>991305</td>\n",
       "    </tr>\n",
       "    <tr>\n",
       "      <th>7</th>\n",
       "      <td>8</td>\n",
       "      <td>Female</td>\n",
       "      <td>92</td>\n",
       "      <td>90</td>\n",
       "      <td>98</td>\n",
       "      <td>175.0</td>\n",
       "      <td>66.0</td>\n",
       "      <td>854258</td>\n",
       "    </tr>\n",
       "    <tr>\n",
       "      <th>10</th>\n",
       "      <td>11</td>\n",
       "      <td>Female</td>\n",
       "      <td>132</td>\n",
       "      <td>129</td>\n",
       "      <td>124</td>\n",
       "      <td>118.0</td>\n",
       "      <td>64.5</td>\n",
       "      <td>833868</td>\n",
       "    </tr>\n",
       "    <tr>\n",
       "      <th>13</th>\n",
       "      <td>14</td>\n",
       "      <td>Female</td>\n",
       "      <td>140</td>\n",
       "      <td>120</td>\n",
       "      <td>147</td>\n",
       "      <td>155.0</td>\n",
       "      <td>70.5</td>\n",
       "      <td>856472</td>\n",
       "    </tr>\n",
       "    <tr>\n",
       "      <th>14</th>\n",
       "      <td>15</td>\n",
       "      <td>Female</td>\n",
       "      <td>96</td>\n",
       "      <td>100</td>\n",
       "      <td>90</td>\n",
       "      <td>146.0</td>\n",
       "      <td>66.0</td>\n",
       "      <td>878897</td>\n",
       "    </tr>\n",
       "    <tr>\n",
       "      <th>15</th>\n",
       "      <td>16</td>\n",
       "      <td>Female</td>\n",
       "      <td>83</td>\n",
       "      <td>71</td>\n",
       "      <td>96</td>\n",
       "      <td>135.0</td>\n",
       "      <td>68.0</td>\n",
       "      <td>865363</td>\n",
       "    </tr>\n",
       "    <tr>\n",
       "      <th>16</th>\n",
       "      <td>17</td>\n",
       "      <td>Female</td>\n",
       "      <td>132</td>\n",
       "      <td>132</td>\n",
       "      <td>120</td>\n",
       "      <td>127.0</td>\n",
       "      <td>68.5</td>\n",
       "      <td>852244</td>\n",
       "    </tr>\n",
       "    <tr>\n",
       "      <th>18</th>\n",
       "      <td>19</td>\n",
       "      <td>Female</td>\n",
       "      <td>101</td>\n",
       "      <td>112</td>\n",
       "      <td>84</td>\n",
       "      <td>136.0</td>\n",
       "      <td>66.3</td>\n",
       "      <td>808020</td>\n",
       "    </tr>\n",
       "    <tr>\n",
       "      <th>22</th>\n",
       "      <td>23</td>\n",
       "      <td>Female</td>\n",
       "      <td>135</td>\n",
       "      <td>129</td>\n",
       "      <td>134</td>\n",
       "      <td>122.0</td>\n",
       "      <td>62.0</td>\n",
       "      <td>790619</td>\n",
       "    </tr>\n",
       "    <tr>\n",
       "      <th>24</th>\n",
       "      <td>25</td>\n",
       "      <td>Female</td>\n",
       "      <td>91</td>\n",
       "      <td>86</td>\n",
       "      <td>102</td>\n",
       "      <td>114.0</td>\n",
       "      <td>63.0</td>\n",
       "      <td>831772</td>\n",
       "    </tr>\n",
       "    <tr>\n",
       "      <th>26</th>\n",
       "      <td>27</td>\n",
       "      <td>Female</td>\n",
       "      <td>85</td>\n",
       "      <td>90</td>\n",
       "      <td>84</td>\n",
       "      <td>140.0</td>\n",
       "      <td>68.0</td>\n",
       "      <td>798612</td>\n",
       "    </tr>\n",
       "    <tr>\n",
       "      <th>28</th>\n",
       "      <td>29</td>\n",
       "      <td>Female</td>\n",
       "      <td>77</td>\n",
       "      <td>83</td>\n",
       "      <td>72</td>\n",
       "      <td>106.0</td>\n",
       "      <td>63.0</td>\n",
       "      <td>793549</td>\n",
       "    </tr>\n",
       "    <tr>\n",
       "      <th>29</th>\n",
       "      <td>30</td>\n",
       "      <td>Female</td>\n",
       "      <td>130</td>\n",
       "      <td>126</td>\n",
       "      <td>124</td>\n",
       "      <td>159.0</td>\n",
       "      <td>66.5</td>\n",
       "      <td>866662</td>\n",
       "    </tr>\n",
       "    <tr>\n",
       "      <th>30</th>\n",
       "      <td>31</td>\n",
       "      <td>Female</td>\n",
       "      <td>133</td>\n",
       "      <td>126</td>\n",
       "      <td>132</td>\n",
       "      <td>127.0</td>\n",
       "      <td>62.5</td>\n",
       "      <td>857782</td>\n",
       "    </tr>\n",
       "    <tr>\n",
       "      <th>34</th>\n",
       "      <td>35</td>\n",
       "      <td>Female</td>\n",
       "      <td>83</td>\n",
       "      <td>90</td>\n",
       "      <td>81</td>\n",
       "      <td>143.0</td>\n",
       "      <td>66.5</td>\n",
       "      <td>834344</td>\n",
       "    </tr>\n",
       "    <tr>\n",
       "      <th>35</th>\n",
       "      <td>36</td>\n",
       "      <td>Female</td>\n",
       "      <td>133</td>\n",
       "      <td>129</td>\n",
       "      <td>128</td>\n",
       "      <td>153.0</td>\n",
       "      <td>66.5</td>\n",
       "      <td>948066</td>\n",
       "    </tr>\n",
       "    <tr>\n",
       "      <th>37</th>\n",
       "      <td>38</td>\n",
       "      <td>Female</td>\n",
       "      <td>88</td>\n",
       "      <td>86</td>\n",
       "      <td>94</td>\n",
       "      <td>139.0</td>\n",
       "      <td>64.5</td>\n",
       "      <td>893983</td>\n",
       "    </tr>\n",
       "  </tbody>\n",
       "</table>\n",
       "</div>"
      ],
      "text/plain": [
       "    Unnamed: 0  Gender  FSIQ  VIQ  PIQ  Weight  Height  MRI_Count\n",
       "0            1  Female   133  132  124   118.0    64.5     816932\n",
       "4            5  Female   137  132  134   147.0    65.0     951545\n",
       "5            6  Female    99   90  110   146.0    69.0     928799\n",
       "6            7  Female   138  136  131   138.0    64.5     991305\n",
       "7            8  Female    92   90   98   175.0    66.0     854258\n",
       "10          11  Female   132  129  124   118.0    64.5     833868\n",
       "13          14  Female   140  120  147   155.0    70.5     856472\n",
       "14          15  Female    96  100   90   146.0    66.0     878897\n",
       "15          16  Female    83   71   96   135.0    68.0     865363\n",
       "16          17  Female   132  132  120   127.0    68.5     852244\n",
       "18          19  Female   101  112   84   136.0    66.3     808020\n",
       "22          23  Female   135  129  134   122.0    62.0     790619\n",
       "24          25  Female    91   86  102   114.0    63.0     831772\n",
       "26          27  Female    85   90   84   140.0    68.0     798612\n",
       "28          29  Female    77   83   72   106.0    63.0     793549\n",
       "29          30  Female   130  126  124   159.0    66.5     866662\n",
       "30          31  Female   133  126  132   127.0    62.5     857782\n",
       "34          35  Female    83   90   81   143.0    66.5     834344\n",
       "35          36  Female   133  129  128   153.0    66.5     948066\n",
       "37          38  Female    88   86   94   139.0    64.5     893983"
      ]
     },
     "execution_count": 8,
     "metadata": {},
     "output_type": "execute_result"
    }
   ],
   "source": [
    "data1 = data[data['Gender'] == 'Female']\n",
    "data1"
   ]
  },
  {
   "cell_type": "code",
   "execution_count": 9,
   "id": "4aa3f6ab-2d82-4aa2-a60a-466137bb18a8",
   "metadata": {
    "tags": []
   },
   "outputs": [
    {
     "data": {
      "text/html": [
       "<div>\n",
       "<style scoped>\n",
       "    .dataframe tbody tr th:only-of-type {\n",
       "        vertical-align: middle;\n",
       "    }\n",
       "\n",
       "    .dataframe tbody tr th {\n",
       "        vertical-align: top;\n",
       "    }\n",
       "\n",
       "    .dataframe thead th {\n",
       "        text-align: right;\n",
       "    }\n",
       "</style>\n",
       "<table border=\"1\" class=\"dataframe\">\n",
       "  <thead>\n",
       "    <tr style=\"text-align: right;\">\n",
       "      <th></th>\n",
       "      <th>Unnamed: 0</th>\n",
       "      <th>Gender</th>\n",
       "      <th>FSIQ</th>\n",
       "      <th>VIQ</th>\n",
       "      <th>PIQ</th>\n",
       "      <th>Weight</th>\n",
       "      <th>Height</th>\n",
       "      <th>MRI_Count</th>\n",
       "    </tr>\n",
       "  </thead>\n",
       "  <tbody>\n",
       "    <tr>\n",
       "      <th>1</th>\n",
       "      <td>2</td>\n",
       "      <td>Male</td>\n",
       "      <td>140</td>\n",
       "      <td>150</td>\n",
       "      <td>124</td>\n",
       "      <td>NaN</td>\n",
       "      <td>72.5</td>\n",
       "      <td>1001121</td>\n",
       "    </tr>\n",
       "    <tr>\n",
       "      <th>2</th>\n",
       "      <td>3</td>\n",
       "      <td>Male</td>\n",
       "      <td>139</td>\n",
       "      <td>123</td>\n",
       "      <td>150</td>\n",
       "      <td>143.0</td>\n",
       "      <td>73.3</td>\n",
       "      <td>1038437</td>\n",
       "    </tr>\n",
       "    <tr>\n",
       "      <th>3</th>\n",
       "      <td>4</td>\n",
       "      <td>Male</td>\n",
       "      <td>133</td>\n",
       "      <td>129</td>\n",
       "      <td>128</td>\n",
       "      <td>172.0</td>\n",
       "      <td>68.8</td>\n",
       "      <td>965353</td>\n",
       "    </tr>\n",
       "    <tr>\n",
       "      <th>8</th>\n",
       "      <td>9</td>\n",
       "      <td>Male</td>\n",
       "      <td>89</td>\n",
       "      <td>93</td>\n",
       "      <td>84</td>\n",
       "      <td>134.0</td>\n",
       "      <td>66.3</td>\n",
       "      <td>904858</td>\n",
       "    </tr>\n",
       "    <tr>\n",
       "      <th>9</th>\n",
       "      <td>10</td>\n",
       "      <td>Male</td>\n",
       "      <td>133</td>\n",
       "      <td>114</td>\n",
       "      <td>147</td>\n",
       "      <td>172.0</td>\n",
       "      <td>68.8</td>\n",
       "      <td>955466</td>\n",
       "    </tr>\n",
       "    <tr>\n",
       "      <th>11</th>\n",
       "      <td>12</td>\n",
       "      <td>Male</td>\n",
       "      <td>141</td>\n",
       "      <td>150</td>\n",
       "      <td>128</td>\n",
       "      <td>151.0</td>\n",
       "      <td>70.0</td>\n",
       "      <td>1079549</td>\n",
       "    </tr>\n",
       "    <tr>\n",
       "      <th>12</th>\n",
       "      <td>13</td>\n",
       "      <td>Male</td>\n",
       "      <td>135</td>\n",
       "      <td>129</td>\n",
       "      <td>124</td>\n",
       "      <td>155.0</td>\n",
       "      <td>69.0</td>\n",
       "      <td>924059</td>\n",
       "    </tr>\n",
       "    <tr>\n",
       "      <th>17</th>\n",
       "      <td>18</td>\n",
       "      <td>Male</td>\n",
       "      <td>100</td>\n",
       "      <td>96</td>\n",
       "      <td>102</td>\n",
       "      <td>178.0</td>\n",
       "      <td>73.5</td>\n",
       "      <td>945088</td>\n",
       "    </tr>\n",
       "    <tr>\n",
       "      <th>19</th>\n",
       "      <td>20</td>\n",
       "      <td>Male</td>\n",
       "      <td>80</td>\n",
       "      <td>77</td>\n",
       "      <td>86</td>\n",
       "      <td>180.0</td>\n",
       "      <td>70.0</td>\n",
       "      <td>889083</td>\n",
       "    </tr>\n",
       "    <tr>\n",
       "      <th>20</th>\n",
       "      <td>21</td>\n",
       "      <td>Male</td>\n",
       "      <td>83</td>\n",
       "      <td>83</td>\n",
       "      <td>86</td>\n",
       "      <td>NaN</td>\n",
       "      <td>NaN</td>\n",
       "      <td>892420</td>\n",
       "    </tr>\n",
       "    <tr>\n",
       "      <th>21</th>\n",
       "      <td>22</td>\n",
       "      <td>Male</td>\n",
       "      <td>97</td>\n",
       "      <td>107</td>\n",
       "      <td>84</td>\n",
       "      <td>186.0</td>\n",
       "      <td>76.5</td>\n",
       "      <td>905940</td>\n",
       "    </tr>\n",
       "    <tr>\n",
       "      <th>23</th>\n",
       "      <td>24</td>\n",
       "      <td>Male</td>\n",
       "      <td>139</td>\n",
       "      <td>145</td>\n",
       "      <td>128</td>\n",
       "      <td>132.0</td>\n",
       "      <td>68.0</td>\n",
       "      <td>955003</td>\n",
       "    </tr>\n",
       "    <tr>\n",
       "      <th>25</th>\n",
       "      <td>26</td>\n",
       "      <td>Male</td>\n",
       "      <td>141</td>\n",
       "      <td>145</td>\n",
       "      <td>131</td>\n",
       "      <td>171.0</td>\n",
       "      <td>72.0</td>\n",
       "      <td>935494</td>\n",
       "    </tr>\n",
       "    <tr>\n",
       "      <th>27</th>\n",
       "      <td>28</td>\n",
       "      <td>Male</td>\n",
       "      <td>103</td>\n",
       "      <td>96</td>\n",
       "      <td>110</td>\n",
       "      <td>187.0</td>\n",
       "      <td>77.0</td>\n",
       "      <td>1062462</td>\n",
       "    </tr>\n",
       "    <tr>\n",
       "      <th>31</th>\n",
       "      <td>32</td>\n",
       "      <td>Male</td>\n",
       "      <td>144</td>\n",
       "      <td>145</td>\n",
       "      <td>137</td>\n",
       "      <td>191.0</td>\n",
       "      <td>67.0</td>\n",
       "      <td>949589</td>\n",
       "    </tr>\n",
       "    <tr>\n",
       "      <th>32</th>\n",
       "      <td>33</td>\n",
       "      <td>Male</td>\n",
       "      <td>103</td>\n",
       "      <td>96</td>\n",
       "      <td>110</td>\n",
       "      <td>192.0</td>\n",
       "      <td>75.5</td>\n",
       "      <td>997925</td>\n",
       "    </tr>\n",
       "    <tr>\n",
       "      <th>33</th>\n",
       "      <td>34</td>\n",
       "      <td>Male</td>\n",
       "      <td>90</td>\n",
       "      <td>96</td>\n",
       "      <td>86</td>\n",
       "      <td>181.0</td>\n",
       "      <td>69.0</td>\n",
       "      <td>879987</td>\n",
       "    </tr>\n",
       "    <tr>\n",
       "      <th>36</th>\n",
       "      <td>37</td>\n",
       "      <td>Male</td>\n",
       "      <td>140</td>\n",
       "      <td>150</td>\n",
       "      <td>124</td>\n",
       "      <td>144.0</td>\n",
       "      <td>70.5</td>\n",
       "      <td>949395</td>\n",
       "    </tr>\n",
       "    <tr>\n",
       "      <th>38</th>\n",
       "      <td>39</td>\n",
       "      <td>Male</td>\n",
       "      <td>81</td>\n",
       "      <td>90</td>\n",
       "      <td>74</td>\n",
       "      <td>148.0</td>\n",
       "      <td>74.0</td>\n",
       "      <td>930016</td>\n",
       "    </tr>\n",
       "    <tr>\n",
       "      <th>39</th>\n",
       "      <td>40</td>\n",
       "      <td>Male</td>\n",
       "      <td>89</td>\n",
       "      <td>91</td>\n",
       "      <td>89</td>\n",
       "      <td>179.0</td>\n",
       "      <td>75.5</td>\n",
       "      <td>935863</td>\n",
       "    </tr>\n",
       "  </tbody>\n",
       "</table>\n",
       "</div>"
      ],
      "text/plain": [
       "    Unnamed: 0 Gender  FSIQ  VIQ  PIQ  Weight  Height  MRI_Count\n",
       "1            2   Male   140  150  124     NaN    72.5    1001121\n",
       "2            3   Male   139  123  150   143.0    73.3    1038437\n",
       "3            4   Male   133  129  128   172.0    68.8     965353\n",
       "8            9   Male    89   93   84   134.0    66.3     904858\n",
       "9           10   Male   133  114  147   172.0    68.8     955466\n",
       "11          12   Male   141  150  128   151.0    70.0    1079549\n",
       "12          13   Male   135  129  124   155.0    69.0     924059\n",
       "17          18   Male   100   96  102   178.0    73.5     945088\n",
       "19          20   Male    80   77   86   180.0    70.0     889083\n",
       "20          21   Male    83   83   86     NaN     NaN     892420\n",
       "21          22   Male    97  107   84   186.0    76.5     905940\n",
       "23          24   Male   139  145  128   132.0    68.0     955003\n",
       "25          26   Male   141  145  131   171.0    72.0     935494\n",
       "27          28   Male   103   96  110   187.0    77.0    1062462\n",
       "31          32   Male   144  145  137   191.0    67.0     949589\n",
       "32          33   Male   103   96  110   192.0    75.5     997925\n",
       "33          34   Male    90   96   86   181.0    69.0     879987\n",
       "36          37   Male   140  150  124   144.0    70.5     949395\n",
       "38          39   Male    81   90   74   148.0    74.0     930016\n",
       "39          40   Male    89   91   89   179.0    75.5     935863"
      ]
     },
     "execution_count": 9,
     "metadata": {},
     "output_type": "execute_result"
    }
   ],
   "source": [
    "data2 = data[data['Gender'] == 'Male']\n",
    "data2"
   ]
  },
  {
   "cell_type": "code",
   "execution_count": 10,
   "id": "69953d56-18ab-4718-8ee7-af9aca1c63dc",
   "metadata": {
    "tags": []
   },
   "outputs": [
    {
     "data": {
      "text/plain": [
       "array([[<Axes: xlabel='Weight', ylabel='Weight'>,\n",
       "        <Axes: xlabel='Height', ylabel='Weight'>,\n",
       "        <Axes: xlabel='MRI_Count', ylabel='Weight'>],\n",
       "       [<Axes: xlabel='Weight', ylabel='Height'>,\n",
       "        <Axes: xlabel='Height', ylabel='Height'>,\n",
       "        <Axes: xlabel='MRI_Count', ylabel='Height'>],\n",
       "       [<Axes: xlabel='Weight', ylabel='MRI_Count'>,\n",
       "        <Axes: xlabel='Height', ylabel='MRI_Count'>,\n",
       "        <Axes: xlabel='MRI_Count', ylabel='MRI_Count'>]], dtype=object)"
      ]
     },
     "execution_count": 10,
     "metadata": {},
     "output_type": "execute_result"
    },
    {
     "data": {
      "image/png": "[encoded data removed]",
      "text/plain": [
       "<Figure size 640x480 with 9 Axes>"
      ]
     },
     "metadata": {},
     "output_type": "display_data"
    }
   ],
   "source": [
    "plotting.scatter_matrix(data1[['Weight', 'Height', 'MRI_Count']])"
   ]
  },
  {
   "cell_type": "code",
   "execution_count": 11,
   "id": "255cb3e5-f222-432b-aab2-4cc4ba549849",
   "metadata": {
    "tags": []
   },
   "outputs": [
    {
     "data": {
      "text/plain": [
       "array([[<Axes: xlabel='PIQ', ylabel='PIQ'>,\n",
       "        <Axes: xlabel='VIQ', ylabel='PIQ'>,\n",
       "        <Axes: xlabel='FSIQ', ylabel='PIQ'>],\n",
       "       [<Axes: xlabel='PIQ', ylabel='VIQ'>,\n",
       "        <Axes: xlabel='VIQ', ylabel='VIQ'>,\n",
       "        <Axes: xlabel='FSIQ', ylabel='VIQ'>],\n",
       "       [<Axes: xlabel='PIQ', ylabel='FSIQ'>,\n",
       "        <Axes: xlabel='VIQ', ylabel='FSIQ'>,\n",
       "        <Axes: xlabel='FSIQ', ylabel='FSIQ'>]], dtype=object)"
      ]
     },
     "execution_count": 11,
     "metadata": {},
     "output_type": "execute_result"
    },
    {
     "data": {
      "image/png": "[encoded data removed]",
      "text/plain": [
       "<Figure size 640x480 with 9 Axes>"
      ]
     },
     "metadata": {},
     "output_type": "display_data"
    }
   ],
   "source": [
    "plotting.scatter_matrix(data1[['PIQ', 'VIQ', 'FSIQ']])  "
   ]
  },
  {
   "cell_type": "code",
   "execution_count": 12,
   "id": "1bbf9dce-ee6a-4992-9c5f-bc728bb6f53f",
   "metadata": {
    "tags": []
   },
   "outputs": [
    {
     "data": {
      "text/plain": [
       "array([[<Axes: xlabel='Weight', ylabel='Weight'>,\n",
       "        <Axes: xlabel='Height', ylabel='Weight'>,\n",
       "        <Axes: xlabel='MRI_Count', ylabel='Weight'>],\n",
       "       [<Axes: xlabel='Weight', ylabel='Height'>,\n",
       "        <Axes: xlabel='Height', ylabel='Height'>,\n",
       "        <Axes: xlabel='MRI_Count', ylabel='Height'>],\n",
       "       [<Axes: xlabel='Weight', ylabel='MRI_Count'>,\n",
       "        <Axes: xlabel='Height', ylabel='MRI_Count'>,\n",
       "        <Axes: xlabel='MRI_Count', ylabel='MRI_Count'>]], dtype=object)"
      ]
     },
     "execution_count": 12,
     "metadata": {},
     "output_type": "execute_result"
    },
    {
     "data": {
      "image/png": "[encoded data removed]",
      "text/plain": [
       "<Figure size 640x480 with 9 Axes>"
      ]
     },
     "metadata": {},
     "output_type": "display_data"
    }
   ],
   "source": [
    "plotting.scatter_matrix(data2[['Weight', 'Height', 'MRI_Count']])"
   ]
  },
  {
   "cell_type": "code",
   "execution_count": 13,
   "id": "34deb8ff-574f-4e7d-acb6-20bad1a20389",
   "metadata": {
    "tags": []
   },
   "outputs": [
    {
     "data": {
      "text/plain": [
       "array([[<Axes: xlabel='PIQ', ylabel='PIQ'>,\n",
       "        <Axes: xlabel='VIQ', ylabel='PIQ'>,\n",
       "        <Axes: xlabel='FSIQ', ylabel='PIQ'>],\n",
       "       [<Axes: xlabel='PIQ', ylabel='VIQ'>,\n",
       "        <Axes: xlabel='VIQ', ylabel='VIQ'>,\n",
       "        <Axes: xlabel='FSIQ', ylabel='VIQ'>],\n",
       "       [<Axes: xlabel='PIQ', ylabel='FSIQ'>,\n",
       "        <Axes: xlabel='VIQ', ylabel='FSIQ'>,\n",
       "        <Axes: xlabel='FSIQ', ylabel='FSIQ'>]], dtype=object)"
      ]
     },
     "execution_count": 13,
     "metadata": {},
     "output_type": "execute_result"
    },
    {
     "data": {
      "image/png": "[encoded data removed]",
      "text/plain": [
       "<Figure size 640x480 with 9 Axes>"
      ]
     },
     "metadata": {},
     "output_type": "display_data"
    }
   ],
   "source": [
    "plotting.scatter_matrix(data2[['PIQ', 'VIQ', 'FSIQ']])  "
   ]
  },
  {
   "cell_type": "code",
   "execution_count": 14,
   "id": "602152eb-b910-43fb-9514-7a203e781239",
   "metadata": {
    "tags": []
   },
   "outputs": [],
   "source": [
    "# 2 sub-populations do not seem to correspond to gender"
   ]
  },
  {
   "cell_type": "code",
   "execution_count": 15,
   "id": "255f75e5-bca0-4b29-a7b9-84c070673932",
   "metadata": {
    "tags": []
   },
   "outputs": [],
   "source": [
    "female_viq = data[data['Gender'] == 'Female']['VIQ']"
   ]
  },
  {
   "cell_type": "code",
   "execution_count": 16,
   "id": "75bbd509-e3da-4e7c-923a-5ff477328542",
   "metadata": {
    "tags": []
   },
   "outputs": [],
   "source": [
    "male_viq = data[data['Gender'] == 'Male']['VIQ']"
   ]
  },
  {
   "cell_type": "markdown",
   "id": "bf4a4962-9ab0-4edc-9c6f-a1eec5874714",
   "metadata": {},
   "source": [
    "# Exercise 3"
   ]
  },
  {
   "cell_type": "code",
   "execution_count": 17,
   "id": "4013b8ac-a6c4-4135-82cd-a9173d36c545",
   "metadata": {
    "tags": []
   },
   "outputs": [],
   "source": [
    "# Test the difference between weights in males and females."
   ]
  },
  {
   "cell_type": "code",
   "execution_count": 18,
   "id": "66198308-f9ca-4a43-a3fe-c3b08956bc84",
   "metadata": {
    "tags": []
   },
   "outputs": [],
   "source": [
    "female_weight = data[data['Gender'] == 'Female']['Weight']"
   ]
  },
  {
   "cell_type": "code",
   "execution_count": 19,
   "id": "a19e79eb-e113-4bb5-8428-50f2b5930070",
   "metadata": {
    "tags": []
   },
   "outputs": [],
   "source": [
    "male_weight = data[data['Gender'] == 'Male']['Weight']"
   ]
  },
  {
   "cell_type": "code",
   "execution_count": 20,
   "id": "e30d083e-6b1d-4b55-8585-723c21bb158b",
   "metadata": {
    "tags": []
   },
   "outputs": [
    {
     "data": {
      "text/plain": [
       "TtestResult(statistic=-4.870950921940696, pvalue=2.227293018362118e-05, df=36.0)"
      ]
     },
     "execution_count": 20,
     "metadata": {},
     "output_type": "execute_result"
    }
   ],
   "source": [
    "stats.ttest_ind(female_weight.dropna(), male_weight.dropna())"
   ]
  },
  {
   "cell_type": "code",
   "execution_count": 21,
   "id": "4af1a2a3-3c77-446b-ad2e-902b72eb2778",
   "metadata": {
    "tags": []
   },
   "outputs": [],
   "source": [
    "# Use non parametric statistics to test the difference between VIQ in males and females"
   ]
  },
  {
   "cell_type": "code",
   "execution_count": 22,
   "id": "b3c77978-76dd-40d2-8676-ff553475de28",
   "metadata": {
    "tags": []
   },
   "outputs": [
    {
     "data": {
      "text/plain": [
       "MannwhitneyuResult(statistic=164.5, pvalue=0.3422886868727315)"
      ]
     },
     "execution_count": 22,
     "metadata": {},
     "output_type": "execute_result"
    }
   ],
   "source": [
    "stats.mannwhitneyu(female_viq, male_viq)"
   ]
  },
  {
   "cell_type": "markdown",
   "id": "2c4bbed2-24f3-43ce-9c03-3c75f06fafdb",
   "metadata": {
    "tags": []
   },
   "source": [
    "# Linear modeling, multiple factors, and variance analysis"
   ]
  },
  {
   "cell_type": "code",
   "execution_count": 23,
   "id": "43c75d87-19b2-43d0-bec6-e2192158a47d",
   "metadata": {
    "tags": []
   },
   "outputs": [],
   "source": [
    "# Linear regression\n",
    "x = np.linspace(-5, 5, 20)\n",
    "np.random.seed(1)"
   ]
  },
  {
   "cell_type": "code",
   "execution_count": 24,
   "id": "31beeb4a-95cc-4060-a0cc-ac3d26de5899",
   "metadata": {
    "tags": []
   },
   "outputs": [],
   "source": [
    "# normal distributed noise\n",
    "y = -5 + 3*x + 4 * np.random.normal(size=x.shape)"
   ]
  },
  {
   "cell_type": "code",
   "execution_count": 25,
   "id": "aaeb9d30-8bfe-4c35-a617-6a3901c9d1cd",
   "metadata": {
    "tags": []
   },
   "outputs": [],
   "source": [
    "# Create a data frame containing all the relevant variables\n",
    "data3 = pd.DataFrame({'x': x, 'y': y})"
   ]
  },
  {
   "cell_type": "code",
   "execution_count": 26,
   "id": "1339d69c-9b54-42dc-9abf-0a84f69595bc",
   "metadata": {
    "tags": []
   },
   "outputs": [],
   "source": [
    "# OLS model\n",
    "model1 = ols(\"y ~ x\", data3).fit()"
   ]
  },
  {
   "cell_type": "code",
   "execution_count": 27,
   "id": "579ccba6-912e-4466-9682-47c95a6d9939",
   "metadata": {
    "tags": []
   },
   "outputs": [
    {
     "name": "stdout",
     "output_type": "stream",
     "text": [
      "                            OLS Regression Results                            \n",
      "==============================================================================\n",
      "Dep. Variable:                      y   R-squared:                       0.804\n",
      "Model:                            OLS   Adj. R-squared:                  0.794\n",
      "Method:                 Least Squares   F-statistic:                     74.03\n",
      "Date:                Thu, 13 Jul 2023   Prob (F-statistic):           8.56e-08\n",
      "Time:                        17:48:43   Log-Likelihood:                -57.988\n",
      "No. Observations:                  20   AIC:                             120.0\n",
      "Df Residuals:                      18   BIC:                             122.0\n",
      "Df Model:                           1                                         \n",
      "Covariance Type:            nonrobust                                         \n",
      "==============================================================================\n",
      "                 coef    std err          t      P>|t|      [0.025      0.975]\n",
      "------------------------------------------------------------------------------\n",
      "Intercept     -5.5335      1.036     -5.342      0.000      -7.710      -3.357\n",
      "x              2.9369      0.341      8.604      0.000       2.220       3.654\n",
      "==============================================================================\n",
      "Omnibus:                        0.100   Durbin-Watson:                   2.956\n",
      "Prob(Omnibus):                  0.951   Jarque-Bera (JB):                0.322\n",
      "Skew:                          -0.058   Prob(JB):                        0.851\n",
      "Kurtosis:                       2.390   Cond. No.                         3.03\n",
      "==============================================================================\n",
      "\n",
      "Notes:\n",
      "[1] Standard Errors assume that the covariance matrix of the errors is correctly specified.\n"
     ]
    }
   ],
   "source": [
    "print(model1.summary())  "
   ]
  },
  {
   "cell_type": "markdown",
   "id": "bc7e0140-5d1e-4ea3-8a10-a27cfe1b9847",
   "metadata": {},
   "source": [
    "# Exercise 4"
   ]
  },
  {
   "cell_type": "code",
   "execution_count": 28,
   "id": "674964ad-2abf-42eb-8d2e-5eccc2df20a8",
   "metadata": {
    "tags": []
   },
   "outputs": [],
   "source": [
    "# Retrieve the estimated parameters from the model above"
   ]
  },
  {
   "cell_type": "code",
   "execution_count": 29,
   "id": "3a063e73-9dba-4237-98fd-2fc5ac829809",
   "metadata": {
    "tags": []
   },
   "outputs": [
    {
     "name": "stdout",
     "output_type": "stream",
     "text": [
      "Intercept   -5.533459\n",
      "x            2.936888\n",
      "dtype: float64\n"
     ]
    }
   ],
   "source": [
    "print(model1.params)"
   ]
  },
  {
   "cell_type": "code",
   "execution_count": 30,
   "id": "57497c07-78da-4602-9807-5b892733000f",
   "metadata": {
    "tags": []
   },
   "outputs": [
    {
     "name": "stdout",
     "output_type": "stream",
     "text": [
      "<bound method LikelihoodModelResults.cov_params of <statsmodels.regression.linear_model.RegressionResultsWrapper object at 0x7fd67a50e0a0>>\n"
     ]
    }
   ],
   "source": [
    "print(model1.cov_params)"
   ]
  },
  {
   "cell_type": "markdown",
   "id": "cb1d5dac-5f7d-4432-b020-1793e84a0ceb",
   "metadata": {},
   "source": [
    "# Exercise 5"
   ]
  },
  {
   "cell_type": "code",
   "execution_count": 31,
   "id": "481c8c97-d22d-4837-995d-ddd35c8f3867",
   "metadata": {
    "tags": []
   },
   "outputs": [],
   "source": [
    "# Going back to the brain size + IQ data, test if the VIQ of male and female are \n",
    "# different after removing the effect of brain size, height and weight"
   ]
  },
  {
   "cell_type": "code",
   "execution_count": 32,
   "id": "5a6dbbb0-abe6-47b0-a647-7ad150764f7c",
   "metadata": {
    "tags": []
   },
   "outputs": [
    {
     "name": "stdout",
     "output_type": "stream",
     "text": [
      "                            OLS Regression Results                            \n",
      "==============================================================================\n",
      "Dep. Variable:                    VIQ   R-squared:                       0.249\n",
      "Model:                            OLS   Adj. R-squared:                  0.158\n",
      "Method:                 Least Squares   F-statistic:                     2.733\n",
      "Date:                Thu, 13 Jul 2023   Prob (F-statistic):             0.0455\n",
      "Time:                        17:48:43   Log-Likelihood:                -167.03\n",
      "No. Observations:                  38   AIC:                             344.1\n",
      "Df Residuals:                      33   BIC:                             352.2\n",
      "Df Model:                           4                                         \n",
      "Covariance Type:            nonrobust                                         \n",
      "==================================================================================\n",
      "                     coef    std err          t      P>|t|      [0.025      0.975]\n",
      "----------------------------------------------------------------------------------\n",
      "Intercept        169.7719     90.054      1.885      0.068     -13.443     352.987\n",
      "Gender[T.Male]    10.1579     10.891      0.933      0.358     -12.001      32.317\n",
      "Height            -2.7337      1.410     -1.938      0.061      -5.603       0.136\n",
      "Weight            -0.1427      0.215     -0.665      0.511      -0.579       0.294\n",
      "MRI_Count          0.0002   6.48e-05      2.489      0.018    2.94e-05       0.000\n",
      "==============================================================================\n",
      "Omnibus:                        5.002   Durbin-Watson:                   2.272\n",
      "Prob(Omnibus):                  0.082   Jarque-Bera (JB):                1.892\n",
      "Skew:                          -0.066   Prob(JB):                        0.388\n",
      "Kurtosis:                       1.915   Cond. No.                     2.41e+07\n",
      "==============================================================================\n",
      "\n",
      "Notes:\n",
      "[1] Standard Errors assume that the covariance matrix of the errors is correctly specified.\n",
      "[2] The condition number is large, 2.41e+07. This might indicate that there are\n",
      "strong multicollinearity or other numerical problems.\n"
     ]
    }
   ],
   "source": [
    "model2 = ols('VIQ ~ Gender + Height + Weight + MRI_Count', data).fit()\n",
    "print(model2.summary())"
   ]
  },
  {
   "cell_type": "code",
   "execution_count": 33,
   "id": "ad1b1190-bdce-40f2-96f4-1b157afcb587",
   "metadata": {
    "tags": []
   },
   "outputs": [
    {
     "name": "stdout",
     "output_type": "stream",
     "text": [
      "<F test: F=0.8698460744965434, p=0.35777194392092526, df_denom=33, df_num=1>\n"
     ]
    }
   ],
   "source": [
    "print(model2.f_test([0, 1, 0, 0, 0])) "
   ]
  },
  {
   "cell_type": "code",
   "execution_count": null,
   "id": "ab86941c-7302-43e3-8c90-39dbbcf409d8",
   "metadata": {},
   "outputs": [],
   "source": []
  }
 ],
 "metadata": {
  "kernelspec": {
   "display_name": "Python 3 (ipykernel)",
   "language": "python",
   "name": "python3"
  },
  "language_info": {
   "codemirror_mode": {
    "name": "ipython",
    "version": 3
   },
   "file_extension": ".py",
   "mimetype": "text/x-python",
   "name": "python",
   "nbconvert_exporter": "python",
   "pygments_lexer": "ipython3",
   "version": "3.9.18"
  }
 },
 "nbformat": 4,
 "nbformat_minor": 5
}
